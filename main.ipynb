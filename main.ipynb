{
 "cells": [
  {
   "cell_type": "markdown",
   "metadata": {},
   "source": [
    "## Data Cleaning"
   ]
  },
  {
   "cell_type": "code",
   "execution_count": 7,
   "metadata": {},
   "outputs": [
    {
     "name": "stdout",
     "output_type": "stream",
     "text": [
      "Data Training yang telah dibersihkan:\n",
      "      No.  fitur1  fitur2  fitur3  fitur4  fitur5  fitur6  fitur7 Kelas\n",
      "0    E541    3.78     9.0    29.4    77.7    23.8    30.7    21.1   BTT\n",
      "1    D272    5.94    10.3    37.5    63.1    17.4    27.5    15.9   BTT\n",
      "2    F728    5.93    10.8    34.4    58.0    18.2    31.3    16.0   BTT\n",
      "3  N1,848    5.29    11.0    37.6    71.0    20.7    29.2    16.9   BTT\n",
      "4   O2320    5.79    11.0    37.0    63.9    19.0    29.7    16.6   BTT\n",
      "\n",
      "Data Testing yang telah dibersihkan:\n",
      "      No.  fitur1  fitur2  fitur3  fitur4  fitur5  fitur6  fitur7 Kelas\n",
      "0    D290    5.20     9.8    31.4    60.4    18.8    31.2    16.8   BTT\n",
      "1  K1,164    5.26    10.9    36.4    69.2    20.8    30.1    15.5   BTT\n",
      "2    F744    5.55    11.2    36.8    66.3    20.2    30.5    16.5   BTT\n",
      "3    F678    6.61    11.7    38.1    57.7    17.7    30.7    16.9   BTT\n",
      "4  L1,341    4.92    11.9    37.5    76.1    24.1    31.7    16.9   BTT\n"
     ]
    }
   ],
   "source": [
    "import pandas as pd\n",
    "\n",
    "def clean_data(file_path):\n",
    "    # Membaca file CSV\n",
    "    df = pd.read_csv(file_path, delimiter=\",\")\n",
    "\n",
    "    # Jika file testing, mengganti nama kolom sesuai yang diinginkan\n",
    "    new_column_names = ['No.', 'fitur1', 'fitur2', 'fitur3', 'fitur4', 'fitur5', 'fitur6', 'fitur7', 'Kelas']\n",
    "    df.columns = new_column_names\n",
    "\n",
    "    # Mengganti tanda koma dengan titik desimal\n",
    "    for column in df.columns[1:]:\n",
    "        df[column] = df[column].astype(str).str.replace(',', '.')\n",
    "        df[column] = df[column].str.replace(';', '')\n",
    "    \n",
    "    # Mengubah tipe data ke float untuk kolom fitur\n",
    "    for column in df.columns[1:-1]:\n",
    "        df[column] = df[column].astype(float)\n",
    "\n",
    "    return df\n",
    "\n",
    "# Path ke file CSV data training dan data testing\n",
    "training_file_path = 'Data-AnalisisPenyakitDarah - modellingtraining.csv'\n",
    "testing_file_path = 'Data-AnalisisPenyakitDarah - testing.csv'\n",
    "\n",
    "# Membersihkan data training dan data testing\n",
    "cleaned_training_data = clean_data(training_file_path)\n",
    "cleaned_testing_data = clean_data(testing_file_path)\n",
    "\n",
    "# Melanjutkan ke tahap selanjutnya dengan data yang telah dibersihkan\n",
    "# Contoh: menampilkan 5 baris pertama dari data yang telah dibersihkan\n",
    "print(\"Data Training yang telah dibersihkan:\")\n",
    "print(cleaned_training_data.head())\n",
    "\n",
    "print(\"\\nData Testing yang telah dibersihkan:\")\n",
    "print(cleaned_testing_data.head())"
   ]
  },
  {
   "cell_type": "code",
   "execution_count": 8,
   "metadata": {},
   "outputs": [
    {
     "name": "stdout",
     "output_type": "stream",
     "text": [
      "    fitur1  fitur2  fitur3  fitur4  fitur5  fitur6  fitur7\n",
      "0     5.20     9.8    31.4    60.4    18.8    31.2    16.8\n",
      "1     5.26    10.9    36.4    69.2    20.8    30.1    15.5\n",
      "2     5.55    11.2    36.8    66.3    20.2    30.5    16.5\n",
      "3     6.61    11.7    38.1    57.7    17.7    30.7    16.9\n",
      "4     4.92    11.9    37.5    76.1    24.1    31.7    16.9\n",
      "..     ...     ...     ...     ...     ...     ...     ...\n",
      "58    5.36    11.3    37.5    70.0    21.1    30.2    17.5\n",
      "59    4.99    11.6    38.9    77.8    23.3    29.9    17.4\n",
      "60    4.76    12.3    38.6    81.2    25.9    31.9    14.4\n",
      "61    5.38    12.9    39.6    73.7    23.9    32.5    15.1\n",
      "62    5.24    13.9    41.9    80.0    26.5    33.1    14.9\n",
      "\n",
      "[63 rows x 7 columns]\n"
     ]
    }
   ],
   "source": [
    "# Memisahkan fitur dan label\n",
    "X_train = cleaned_training_data.drop(columns=['No.', 'Kelas'])\n",
    "y_train = cleaned_training_data['Kelas']\n",
    "\n",
    "X_test = cleaned_testing_data.drop(columns=['No.', 'Kelas'])\n",
    "y_test = cleaned_testing_data['Kelas']\n",
    "\n",
    "print(X_test)"
   ]
  },
  {
   "cell_type": "markdown",
   "metadata": {},
   "source": [
    "## Model Training"
   ]
  },
  {
   "cell_type": "code",
   "execution_count": 13,
   "metadata": {},
   "outputs": [],
   "source": [
    "import numpy as np\n",
    "import pandas as pd\n",
    "\n",
    "def minkowski(a, b, p):\n",
    "    return np.power(np.sum(np.power(np.abs(a-b), p)), 1/p)\n",
    "\n",
    "class KNN:\n",
    "    def __init__(self, p=2, k=11):\n",
    "        self.p = p\n",
    "        self.k = k\n",
    "        self.X_train = None\n",
    "        self.y_train = None\n",
    "\n",
    "    def fit(self, X_train, y_train):\n",
    "        self.X_train = X_train\n",
    "        self.y_train = y_train\n",
    "\n",
    "    def predict(self, X_test):\n",
    "        y_predicted = []\n",
    "        for test_row in X_test.itertuples(index=False, name=None):\n",
    "            distances = self.X_train.apply(lambda row: minkowski(row.values, np.array(test_row), self.p), axis=1)\n",
    "            smallest_distances = distances.nsmallest(self.k)\n",
    "            indices_distances = smallest_distances.index\n",
    "            classes = self.y_train[indices_distances]\n",
    "            majority_class = classes.value_counts().idxmax()\n",
    "            y_predicted.append(majority_class)\n",
    "        return y_predicted"
   ]
  },
  {
   "cell_type": "code",
   "execution_count": 10,
   "metadata": {},
   "outputs": [],
   "source": [
    "# # Fungsi Jarak\n",
    "# import numpy as np\n",
    "\n",
    "# def minkowski(a, b, p) :\n",
    "#     return np.power(np.sum(np.power(np.abs(a-b), p)), 1/p)\n",
    "\n",
    "# # Reference row (first row)\n",
    "# test_rows = [X_test.iloc[i] for i in range(len(X_test))] \n",
    "\n",
    "# # Minkowski distance parameter\n",
    "# p = 2  # Example for Euclidean distance\n",
    "# k = 11\n",
    "# y_predicted = []\n",
    "# for test_row in test_rows : \n",
    "#     distances = X_train.apply(lambda row: minkowski(row.values, test_row.values, p), axis=1)\n",
    "#     smallest_distances  = distances.nsmallest(k)\n",
    "#     indices_distances = smallest_distances.index\n",
    "#     classes = y_train[indices_distances]\n",
    "    \n",
    "#     majority_class = classes.value_counts().idxmax()\n",
    "#     # print(classes)\n",
    "#     # print(majority_class)\n",
    "#     y_predicted.append(majority_class)\n",
    "#     # print(hasil)\n",
    "\n",
    "# print(y_predicted)\n",
    "\n",
    "# # print(\"Distances from the reference row:\\n\", distances)\n",
    "# # print(reference_rows)\n",
    "# # class KNN :\n",
    "#     #  self.__init(dist)\n",
    "\n"
   ]
  },
  {
   "cell_type": "markdown",
   "metadata": {},
   "source": [
    "## KNN dengan Manhattan Distances\n",
    "Didapat dengan set $p = 1$"
   ]
  },
  {
   "cell_type": "code",
   "execution_count": 11,
   "metadata": {},
   "outputs": [
    {
     "name": "stdout",
     "output_type": "stream",
     "text": [
      "['DB', 'DB', 'BTT', 'BTT', 'DB', 'HbE', 'BTT', 'HbE', 'DB', 'HbE', 'HbE', 'HbE', 'DB', 'HbE', 'DB', 'HbE', 'HbE', 'HbE', 'HbE', 'HbE', 'HbE', 'HbE', 'DB', 'DB', 'DB', 'DB', 'DB', 'DB', 'DB', 'DB', 'DB', 'DB', 'DB', 'DB', 'DB', 'DB', 'DB', 'DB', 'DB', 'DB', 'DB', 'DB', 'DB', 'DB', 'DB', 'DB', 'DB', 'DB', 'DB', 'DB', 'DB', 'DB', 'DB', 'DB', 'DB', 'HbE', 'DB', 'DB', 'DB', 'DB', 'HbE', 'HbE', 'HbE']\n"
     ]
    }
   ],
   "source": [
    "# Example usage\n",
    "# X_train, y_train, X_test should be pandas DataFrames or Series\n",
    "knn_mh = KNN(p=1, k=11)\n",
    "knn_mh.fit(X_train, y_train)\n",
    "y_predicted = knn_mh.predict(X_test)\n",
    "\n",
    "print(y_predicted)"
   ]
  },
  {
   "cell_type": "markdown",
   "metadata": {},
   "source": [
    "## KNN dengan Euclidean Distances \n",
    "Didapat dengan set $p = 2$"
   ]
  },
  {
   "cell_type": "code",
   "execution_count": 12,
   "metadata": {},
   "outputs": [
    {
     "name": "stdout",
     "output_type": "stream",
     "text": [
      "['DB', 'DB', 'BTT', 'DB', 'DB', 'HbE', 'BTT', 'HbE', 'DB', 'HbE', 'HbE', 'HbE', 'HbE', 'HbE', 'DB', 'HbE', 'HbE', 'HbE', 'HbE', 'HbE', 'HbE', 'HbE', 'DB', 'DB', 'DB', 'DB', 'DB', 'DB', 'DB', 'DB', 'DB', 'DB', 'DB', 'DB', 'DB', 'DB', 'DB', 'DB', 'DB', 'DB', 'DB', 'DB', 'DB', 'DB', 'DB', 'DB', 'DB', 'DB', 'DB', 'DB', 'DB', 'HbE', 'DB', 'DB', 'DB', 'HbE', 'DB', 'DB', 'DB', 'DB', 'DB', 'HbE', 'HbE']\n"
     ]
    }
   ],
   "source": [
    "# Example usage\n",
    "# X_train, y_train, X_test should be pandas DataFrames or Series\n",
    "knn_mh = KNN(p=2, k=11)\n",
    "knn_mh.fit(X_train, y_train)\n",
    "y_predicted = knn_mh.predict(X_test)\n",
    "\n",
    "print(y_predicted)"
   ]
  }
 ],
 "metadata": {
  "kernelspec": {
   "display_name": "Python 3",
   "language": "python",
   "name": "python3"
  },
  "language_info": {
   "codemirror_mode": {
    "name": "ipython",
    "version": 3
   },
   "file_extension": ".py",
   "mimetype": "text/x-python",
   "name": "python",
   "nbconvert_exporter": "python",
   "pygments_lexer": "ipython3",
   "version": "3.12.1"
  }
 },
 "nbformat": 4,
 "nbformat_minor": 2
}
