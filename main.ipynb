{
 "cells": [
  {
   "cell_type": "markdown",
   "metadata": {},
   "source": [
    "## Data Cleaning"
   ]
  },
  {
   "cell_type": "code",
   "execution_count": 9,
   "metadata": {},
   "outputs": [
    {
     "name": "stdout",
     "output_type": "stream",
     "text": [
      "Data Training yang telah dibersihkan:\n",
      "      No.  fitur1  fitur2  fitur3  fitur4  fitur5  fitur6  fitur7 Kelas\n",
      "0    E541    3.78     9.0    29.4    77.7    23.8    30.7    21.1   BTT\n",
      "1    D272    5.94    10.3    37.5    63.1    17.4    27.5    15.9   BTT\n",
      "2    F728    5.93    10.8    34.4    58.0    18.2    31.3    16.0   BTT\n",
      "3  N1,848    5.29    11.0    37.6    71.0    20.7    29.2    16.9   BTT\n",
      "4   O2320    5.79    11.0    37.0    63.9    19.0    29.7    16.6   BTT\n",
      "\n",
      "Data Testing yang telah dibersihkan:\n",
      "      No.  fitur1  fitur2  fitur3  fitur4  fitur5  fitur6  fitur7 Kelas\n",
      "0    D290    5.20     9.8    31.4    60.4    18.8    31.2    16.8   BTT\n",
      "1  K1,164    5.26    10.9    36.4    69.2    20.8    30.1    15.5   BTT\n",
      "2    F744    5.55    11.2    36.8    66.3    20.2    30.5    16.5   BTT\n",
      "3    F678    6.61    11.7    38.1    57.7    17.7    30.7    16.9   BTT\n",
      "4  L1,341    4.92    11.9    37.5    76.1    24.1    31.7    16.9   BTT\n"
     ]
    }
   ],
   "source": [
    "import pandas as pd\n",
    "\n",
    "def clean_data(file_path):\n",
    "    # Membaca file CSV\n",
    "    df = pd.read_csv(file_path, delimiter=\",\")\n",
    "\n",
    "    # Jika file testing, mengganti nama kolom sesuai yang diinginkan\n",
    "    new_column_names = ['No.', 'fitur1', 'fitur2', 'fitur3', 'fitur4', 'fitur5', 'fitur6', 'fitur7', 'Kelas']\n",
    "    df.columns = new_column_names\n",
    "\n",
    "    # Mengganti tanda koma dengan titik desimal\n",
    "    for column in df.columns[1:]:\n",
    "        df[column] = df[column].astype(str).str.replace(',', '.')\n",
    "        df[column] = df[column].str.replace(';', '')\n",
    "    \n",
    "    # Mengubah tipe data ke float untuk kolom fitur\n",
    "    for column in df.columns[1:-1]:\n",
    "        df[column] = df[column].astype(float)\n",
    "\n",
    "    return df\n",
    "\n",
    "# Path ke file CSV data training dan data testing\n",
    "training_file_path = 'Data-AnalisisPenyakitDarah - modellingtraining.csv'\n",
    "testing_file_path = 'Data-AnalisisPenyakitDarah - testing.csv'\n",
    "\n",
    "# Membersihkan data training dan data testing\n",
    "cleaned_training_data = clean_data(training_file_path)\n",
    "cleaned_testing_data = clean_data(testing_file_path)\n",
    "\n",
    "# Melanjutkan ke tahap selanjutnya dengan data yang telah dibersihkan\n",
    "# Contoh: menampilkan 5 baris pertama dari data yang telah dibersihkan\n",
    "print(\"Data Training yang telah dibersihkan:\")\n",
    "print(cleaned_training_data.head())\n",
    "\n",
    "print(\"\\nData Testing yang telah dibersihkan:\")\n",
    "print(cleaned_testing_data.head())"
   ]
  },
  {
   "cell_type": "code",
   "execution_count": 11,
   "metadata": {},
   "outputs": [
    {
     "name": "stdout",
     "output_type": "stream",
     "text": [
      "\n",
      "Data Training:\n",
      "      No.  fitur1  fitur2  fitur3  fitur4  fitur5  fitur6  fitur7\n",
      "0    E541    3.78     9.0    29.4    77.7    23.8    30.7    21.1\n",
      "1    D272    5.94    10.3    37.5    63.1    17.4    27.5    15.9\n",
      "2    F728    5.93    10.8    34.4    58.0    18.2    31.3    16.0\n",
      "3  N1,848    5.29    11.0    37.6    71.0    20.7    29.2    16.9\n",
      "4   O2320    5.79    11.0    37.0    63.9    19.0    29.7    16.6\n"
     ]
    }
   ],
   "source": [
    "# Memisahkan fitur dan label\n",
    "X_train = cleaned_training_data.drop(columns=['Kelas'])\n",
    "y_train = cleaned_training_data['Kelas']\n",
    "\n",
    "X_test = cleaned_testing_data.drop(columns=['Kelas'])\n",
    "y_test = cleaned_testing_data['Kelas']\n"
   ]
  },
  {
   "cell_type": "markdown",
   "metadata": {},
   "source": [
    "## Model Training"
   ]
  },
  {
   "cell_type": "code",
   "execution_count": null,
   "metadata": {},
   "outputs": [],
   "source": [
    "# Katanya syifa gampang"
   ]
  },
  {
   "cell_type": "code",
   "execution_count": null,
   "metadata": {},
   "outputs": [],
   "source": []
  }
 ],
 "metadata": {
  "kernelspec": {
   "display_name": "Python 3",
   "language": "python",
   "name": "python3"
  },
  "language_info": {
   "codemirror_mode": {
    "name": "ipython",
    "version": 3
   },
   "file_extension": ".py",
   "mimetype": "text/x-python",
   "name": "python",
   "nbconvert_exporter": "python",
   "pygments_lexer": "ipython3",
   "version": "3.11.6"
  }
 },
 "nbformat": 4,
 "nbformat_minor": 2
}
