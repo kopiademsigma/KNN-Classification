{
 "cells": [
  {
   "cell_type": "markdown",
   "metadata": {},
   "source": [
    "## Data Cleaning"
   ]
  },
  {
   "cell_type": "code",
   "execution_count": 483,
   "metadata": {},
   "outputs": [
    {
     "name": "stdout",
     "output_type": "stream",
     "text": [
      "Data Training yang telah dibersihkan:\n",
      "      No.  fitur1  fitur2  fitur3  fitur4  fitur5  fitur6  fitur7 Kelas\n",
      "0    E541    3.78     9.0    29.4    77.7    23.8    30.7    21.1   BTT\n",
      "1    D272    5.94    10.3    37.5    63.1    17.4    27.5    15.9   BTT\n",
      "2    F728    5.93    10.8    34.4    58.0    18.2    31.3    16.0   BTT\n",
      "3  N1,848    5.29    11.0    37.6    71.0    20.7    29.2    16.9   BTT\n",
      "4   O2320    5.79    11.0    37.0    63.9    19.0    29.7    16.6   BTT\n",
      "\n",
      "Data Testing yang telah dibersihkan:\n",
      "      No.  fitur1  fitur2  fitur3  fitur4  fitur5  fitur6  fitur7 Kelas\n",
      "0    D290    5.20     9.8    31.4    60.4    18.8    31.2    16.8   BTT\n",
      "1  K1,164    5.26    10.9    36.4    69.2    20.8    30.1    15.5   BTT\n",
      "2    F744    5.55    11.2    36.8    66.3    20.2    30.5    16.5   BTT\n",
      "3    F678    6.61    11.7    38.1    57.7    17.7    30.7    16.9   BTT\n",
      "4  L1,341    4.92    11.9    37.5    76.1    24.1    31.7    16.9   BTT\n"
     ]
    }
   ],
   "source": [
    "import pandas as pd\n",
    "\n",
    "def clean_data(file_path):\n",
    "    # Membaca file CSV\n",
    "    df = pd.read_csv(file_path, delimiter=\",\")\n",
    "\n",
    "    # Jika file testing, mengganti nama kolom sesuai yang diinginkan\n",
    "    new_column_names = ['No.', 'fitur1', 'fitur2', 'fitur3', 'fitur4', 'fitur5', 'fitur6', 'fitur7', 'Kelas']\n",
    "    df.columns = new_column_names\n",
    "\n",
    "    # Mengganti tanda koma dengan titik desimal\n",
    "    for column in df.columns[1:]:\n",
    "        df[column] = df[column].astype(str).str.replace(',', '.')\n",
    "        df[column] = df[column].str.replace(';', '')\n",
    "    \n",
    "    # Mengubah tipe data ke float untuk kolom fitur\n",
    "    for column in df.columns[1:-1]:\n",
    "        df[column] = df[column].astype(float)\n",
    "\n",
    "    return df\n",
    "\n",
    "# Path ke file CSV data training dan data testing\n",
    "training_file_path = 'Data-AnalisisPenyakitDarah - modellingtraining.csv'\n",
    "testing_file_path = 'Data-AnalisisPenyakitDarah - testing.csv'\n",
    "\n",
    "# Membersihkan data training dan data testing\n",
    "cleaned_training_data = clean_data(training_file_path)\n",
    "cleaned_testing_data = clean_data(testing_file_path)\n",
    "\n",
    "# Melanjutkan ke tahap selanjutnya dengan data yang telah dibersihkan\n",
    "# Contoh: menampilkan 5 baris pertama dari data yang telah dibersihkan\n",
    "print(\"Data Training yang telah dibersihkan:\")\n",
    "print(cleaned_training_data.head())\n",
    "\n",
    "print(\"\\nData Testing yang telah dibersihkan:\")\n",
    "print(cleaned_testing_data.head())"
   ]
  },
  {
   "cell_type": "code",
   "execution_count": 484,
   "metadata": {},
   "outputs": [
    {
     "name": "stdout",
     "output_type": "stream",
     "text": [
      "    fitur1  fitur2  fitur3  fitur4  fitur5  fitur6  fitur7\n",
      "0     5.20     9.8    31.4    60.4    18.8    31.2    16.8\n",
      "1     5.26    10.9    36.4    69.2    20.8    30.1    15.5\n",
      "2     5.55    11.2    36.8    66.3    20.2    30.5    16.5\n",
      "3     6.61    11.7    38.1    57.7    17.7    30.7    16.9\n",
      "4     4.92    11.9    37.5    76.1    24.1    31.7    16.9\n",
      "..     ...     ...     ...     ...     ...     ...     ...\n",
      "58    5.36    11.3    37.5    70.0    21.1    30.2    17.5\n",
      "59    4.99    11.6    38.9    77.8    23.3    29.9    17.4\n",
      "60    4.76    12.3    38.6    81.2    25.9    31.9    14.4\n",
      "61    5.38    12.9    39.6    73.7    23.9    32.5    15.1\n",
      "62    5.24    13.9    41.9    80.0    26.5    33.1    14.9\n",
      "\n",
      "[63 rows x 7 columns]\n",
      "0     BTT\n",
      "1     BTT\n",
      "2     BTT\n",
      "3     BTT\n",
      "4     BTT\n",
      "     ... \n",
      "58    mix\n",
      "59    mix\n",
      "60    mix\n",
      "61    mix\n",
      "62    mix\n",
      "Name: Kelas, Length: 63, dtype: object\n"
     ]
    }
   ],
   "source": [
    "# Memisahkan fitur dan label\n",
    "X_train = cleaned_training_data.drop(columns=['No.', 'Kelas'])\n",
    "y_train = cleaned_training_data['Kelas']\n",
    "\n",
    "X_test = cleaned_testing_data.drop(columns=['No.', 'Kelas'])\n",
    "y_test = cleaned_testing_data['Kelas']\n",
    "\n",
    "print(X_test)\n",
    "\n",
    "print(y_test)"
   ]
  },
  {
   "cell_type": "markdown",
   "metadata": {},
   "source": [
    "## Model Training"
   ]
  },
  {
   "cell_type": "code",
   "execution_count": 485,
   "metadata": {},
   "outputs": [],
   "source": [
    "import numpy as np\n",
    "import pandas as pd\n",
    "\n",
    "def minkowski(a, b, p):\n",
    "    return np.power(np.sum(np.power(np.abs(a-b), p)), 1/p)\n",
    "\n",
    "class KNN:\n",
    "    def __init__(self, p=2, k=11):\n",
    "        self.p = p\n",
    "        self.k = k\n",
    "        self.X_train = None\n",
    "        self.y_train = None\n",
    "\n",
    "    def fit(self, X_train, y_train):\n",
    "        self.X_train = X_train\n",
    "        self.y_train = y_train\n",
    "\n",
    "    def predict(self, X_test):\n",
    "        y_predicted = []\n",
    "        for test_row in X_test.itertuples(index=False, name=None):\n",
    "            distances = self.X_train.apply(lambda row: minkowski(row.values, np.array(test_row), self.p), axis=1)\n",
    "            smallest_distances = distances.nsmallest(self.k)\n",
    "            indices_distances = smallest_distances.index\n",
    "            classes = self.y_train[indices_distances]\n",
    "            majority_class = classes.value_counts().idxmax()\n",
    "            y_predicted.append(majority_class)\n",
    "        return pd.Series(y_predicted)"
   ]
  },
  {
   "cell_type": "code",
   "execution_count": 486,
   "metadata": {},
   "outputs": [],
   "source": [
    "# # Fungsi Jarak\n",
    "# import numpy as np\n",
    "\n",
    "# def minkowski(a, b, p) :\n",
    "#     return np.power(np.sum(np.power(np.abs(a-b), p)), 1/p)\n",
    "\n",
    "# # Reference row (first row)\n",
    "# test_rows = [X_test.iloc[i] for i in range(len(X_test))] \n",
    "\n",
    "# # Minkowski distance parameter\n",
    "# p = 2  # Example for Euclidean distance\n",
    "# k = 11\n",
    "# y_predicted = []\n",
    "# for test_row in test_rows : \n",
    "#     distances = X_train.apply(lambda row: minkowski(row.values, test_row.values, p), axis=1)\n",
    "#     smallest_distances  = distances.nsmallest(k)\n",
    "#     indices_distances = smallest_distances.index\n",
    "#     classes = y_train[indices_distances]\n",
    "    \n",
    "#     majority_class = classes.value_counts().idxmax()\n",
    "#     # print(classes)\n",
    "#     # print(majority_class)\n",
    "#     y_predicted.append(majority_class)\n",
    "#     # print(hasil)\n",
    "\n",
    "# print(y_predicted)\n",
    "\n",
    "# # print(\"Distances from the reference row:\\n\", distances)\n",
    "# # print(reference_rows)\n",
    "# # class KNN :\n",
    "#     #  self.__init(dist)\n",
    "\n"
   ]
  },
  {
   "cell_type": "markdown",
   "metadata": {},
   "source": [
    "## KNN dengan Manhattan Distances\n",
    "Didapat dengan set $p = 1$"
   ]
  },
  {
   "cell_type": "code",
   "execution_count": 487,
   "metadata": {},
   "outputs": [
    {
     "name": "stdout",
     "output_type": "stream",
     "text": [
      "0      DB\n",
      "1      DB\n",
      "2     BTT\n",
      "3     BTT\n",
      "4      DB\n",
      "     ... \n",
      "58     DB\n",
      "59     DB\n",
      "60    HbE\n",
      "61    HbE\n",
      "62    HbE\n",
      "Length: 63, dtype: object\n"
     ]
    }
   ],
   "source": [
    "# Example usage\n",
    "# X_train, y_train, X_test should be pandas DataFrames or Series\n",
    "knn_mh = KNN(p=1, k=11)\n",
    "knn_mh.fit(X_train, y_train)\n",
    "y_pred_mh = knn_mh.predict(X_test)\n",
    "\n",
    "print(y_pred_mh)"
   ]
  },
  {
   "cell_type": "markdown",
   "metadata": {},
   "source": [
    "## KNN dengan Euclidean Distances \n",
    "Didapat dengan set $p = 2$"
   ]
  },
  {
   "cell_type": "code",
   "execution_count": 488,
   "metadata": {},
   "outputs": [
    {
     "name": "stdout",
     "output_type": "stream",
     "text": [
      "0      DB\n",
      "1      DB\n",
      "2     BTT\n",
      "3      DB\n",
      "4      DB\n",
      "     ... \n",
      "58     DB\n",
      "59     DB\n",
      "60     DB\n",
      "61    HbE\n",
      "62    HbE\n",
      "Length: 63, dtype: object\n",
      "0     BTT\n",
      "1     BTT\n",
      "2     BTT\n",
      "3     BTT\n",
      "4     BTT\n",
      "     ... \n",
      "58    mix\n",
      "59    mix\n",
      "60    mix\n",
      "61    mix\n",
      "62    mix\n",
      "Name: Kelas, Length: 63, dtype: object\n"
     ]
    }
   ],
   "source": [
    "# Example usage\n",
    "# X_train, y_train, X_test should be pandas DataFrames or Series\n",
    "knn_ec = KNN(p=2, k=11)\n",
    "knn_ec.fit(X_train, y_train)\n",
    "y_pred_ec = knn_ec.predict(X_test)\n",
    "\n",
    "print(y_pred_ec)\n",
    "print(y_test)"
   ]
  },
  {
   "cell_type": "markdown",
   "metadata": {},
   "source": [
    "## KNN dengan Minkowski Distances p=3\n",
    "Didapat dengan set $p = 3$"
   ]
  },
  {
   "cell_type": "code",
   "execution_count": 489,
   "metadata": {},
   "outputs": [
    {
     "name": "stdout",
     "output_type": "stream",
     "text": [
      "0      DB\n",
      "1      DB\n",
      "2      DB\n",
      "3      DB\n",
      "4      DB\n",
      "     ... \n",
      "58     DB\n",
      "59     DB\n",
      "60     DB\n",
      "61    HbE\n",
      "62    HbE\n",
      "Length: 63, dtype: object\n"
     ]
    }
   ],
   "source": [
    "# Example usage\n",
    "# X_train, y_train, X_test should be pandas DataFrames or Series\n",
    "knn_m3 = KNN(p=3, k=11)\n",
    "knn_m3.fit(X_train, y_train)\n",
    "y_pred_m3 = knn_m3.predict(X_test)\n",
    "\n",
    "print(y_pred_m3)"
   ]
  },
  {
   "cell_type": "markdown",
   "metadata": {},
   "source": [
    "## Evaluasi"
   ]
  },
  {
   "cell_type": "code",
   "execution_count": 490,
   "metadata": {},
   "outputs": [],
   "source": [
    "# Function to evaluate the model\n",
    "def evaluate_model(y_pred, y_test):\n",
    "    classes = np.unique(y_test)\n",
    "    accuracy = np.mean(y_pred == y_test)\n",
    "    \n",
    "    precision = []\n",
    "    recall = []\n",
    "    f1_score = []\n",
    "    \n",
    "    for cls in classes:\n",
    "        true_positive = np.sum((y_pred == cls) & (y_test == cls))\n",
    "        false_positive = np.sum((y_pred == cls) & (y_test != cls))\n",
    "        false_negative = np.sum((y_pred != cls) & (y_test == cls))\n",
    "        \n",
    "        cls_precision = true_positive / (true_positive + false_positive) if (true_positive + false_positive) > 0 else 0\n",
    "        cls_recall = true_positive / (true_positive + false_negative) if (true_positive + false_negative) > 0 else 0\n",
    "        cls_f1_score = 2 * (cls_precision * cls_recall) / (cls_precision + cls_recall) if (cls_precision + cls_recall) > 0 else 0\n",
    "        \n",
    "        precision.append(cls_precision)\n",
    "        recall.append(cls_recall)\n",
    "        f1_score.append(cls_f1_score)\n",
    "    \n",
    "    precision = np.mean(precision)\n",
    "    recall = np.mean(recall)\n",
    "    f1_score = np.mean(f1_score)\n",
    "    \n",
    "    return accuracy, precision, recall, f1_score"
   ]
  },
  {
   "cell_type": "code",
   "execution_count": 491,
   "metadata": {},
   "outputs": [],
   "source": [
    "import matplotlib.pyplot as plt\n",
    "import seaborn as sns\n",
    "\n",
    "# Function to compute the confusion matrix\n",
    "def confusion_matrix(y_true, y_pred):\n",
    "    classes = np.unique(y_true)\n",
    "    matrix = np.zeros((len(classes), len(classes)), dtype=int)\n",
    "    \n",
    "    for i in range(len(y_true)):\n",
    "        actual_class = np.where(classes == y_true[i])[0][0]\n",
    "        predicted_class = np.where(classes == y_pred[i])[0][0]\n",
    "        matrix[actual_class, predicted_class] += 1\n",
    "    \n",
    "    return matrix, classes\n",
    "\n",
    "# Fungsi untuk menampilkan confusion matrix\n",
    "def plot_confusion_matrix(matrix, classes):\n",
    "    plt.figure(figsize=(7, 4))\n",
    "    sns.heatmap(matrix, annot=True, fmt='d', cmap='Blues', xticklabels=classes, yticklabels=classes)\n",
    "    plt.xlabel('Predicted')\n",
    "    plt.ylabel('Actual')\n",
    "    plt.title('Confusion Matrix')\n",
    "    plt.show()"
   ]
  },
  {
   "cell_type": "code",
   "execution_count": 492,
   "metadata": {},
   "outputs": [],
   "source": [
    "# Evaluate KNN with Manhattan distance\n",
    "accuracy_mh, precision_mh, recall_mh, f1_score_mh = evaluate_model(y_pred_mh, y_test)\n",
    "matrix_mh, classes_mh = confusion_matrix(y_test, y_pred_mh)\n",
    "\n",
    "# Evaluate KNN with Euclidean distance\n",
    "accuracy_ec, precision_ec, recall_ec, f1_score_ec = evaluate_model(y_pred_ec, y_test)\n",
    "matrix_ec, classes_ec = confusion_matrix(y_test, y_pred_ec)\n",
    "\n",
    "# Evaluate KNN with Minkowski distance (p=3)\n",
    "accuracy_m3, precision_m3, recall_m3, f1_score_m3 = evaluate_model(y_pred_m3, y_test)\n",
    "matrix_m3, classes_m3 = confusion_matrix(y_test, y_pred_m3)"
   ]
  },
  {
   "cell_type": "code",
   "execution_count": 493,
   "metadata": {},
   "outputs": [
    {
     "name": "stdout",
     "output_type": "stream",
     "text": [
      "\n",
      "Evaluation results for KNN with Manhattan distance:\n",
      "Accuracy: 0.746031746031746\n",
      "Precision: 0.603625170998632\n",
      "Recall: 0.5328256302521008\n",
      "F1-score: 0.5280687054880603\n"
     ]
    },
    {
     "data": {
      "image/png": "[encoded data removed]",
      "text/plain": [
       "<Figure size 700x400 with 2 Axes>"
      ]
     },
     "metadata": {},
     "output_type": "display_data"
    },
    {
     "name": "stdout",
     "output_type": "stream",
     "text": [
      "Evaluation results for KNN with Euclidean distance:\n",
      "Accuracy: 0.7301587301587301\n",
      "Precision: 0.6027131782945736\n",
      "Recall: 0.5120798319327731\n",
      "F1-score: 0.49529220779220784\n"
     ]
    },
    {
     "data": {
      "image/png": "[encoded data removed]",
      "text/plain": [
       "<Figure size 700x400 with 2 Axes>"
      ]
     },
     "metadata": {},
     "output_type": "display_data"
    },
    {
     "name": "stdout",
     "output_type": "stream",
     "text": [
      "\n",
      "Evaluation results for KNN with Minkowski distance:\n",
      "Accuracy: 0.6825396825396826\n",
      "Precision: 0.3428030303030303\n",
      "Recall: 0.4422268907563025\n",
      "F1-score: 0.3862179487179488\n"
     ]
    },
    {
     "data": {
      "image/png": "[encoded data removed]",
      "text/plain": [
       "<Figure size 700x400 with 2 Axes>"
      ]
     },
     "metadata": {},
     "output_type": "display_data"
    }
   ],
   "source": [
    "# Print the evaluation results and confusion matrices\n",
    "print(\"\\nEvaluation results for KNN with Manhattan distance:\")\n",
    "print(\"Accuracy:\", accuracy_mh)\n",
    "print(\"Precision:\", precision_mh)\n",
    "print(\"Recall:\", recall_mh)\n",
    "print(\"F1-score:\", f1_score_mh)\n",
    "plot_confusion_matrix(matrix_mh, classes_mh)\n",
    "\n",
    "print(\"Evaluation results for KNN with Euclidean distance:\")\n",
    "print(\"Accuracy:\", accuracy_ec)\n",
    "print(\"Precision:\", precision_ec)\n",
    "print(\"Recall:\", recall_ec)\n",
    "print(\"F1-score:\", f1_score_ec)\n",
    "plot_confusion_matrix(matrix_ec, classes_ec)\n",
    "\n",
    "print(\"\\nEvaluation results for KNN with Minkowski distance:\")\n",
    "print(\"Accuracy:\", accuracy_m3)\n",
    "print(\"Precision:\", precision_m3)\n",
    "print(\"Recall:\", recall_m3)\n",
    "print(\"F1-score:\", f1_score_m3)\n",
    "plot_confusion_matrix(matrix_m3, classes_m3)"
   ]
  },
  {
   "cell_type": "code",
   "execution_count": 494,
   "metadata": {},
   "outputs": [
    {
     "data": {
      "text/html": [
       "<div>\n",
       "<style scoped>\n",
       "    .dataframe tbody tr th:only-of-type {\n",
       "        vertical-align: middle;\n",
       "    }\n",
       "\n",
       "    .dataframe tbody tr th {\n",
       "        vertical-align: top;\n",
       "    }\n",
       "\n",
       "    .dataframe thead th {\n",
       "        text-align: right;\n",
       "    }\n",
       "</style>\n",
       "<table border=\"1\" class=\"dataframe\">\n",
       "  <thead>\n",
       "    <tr style=\"text-align: right;\">\n",
       "      <th></th>\n",
       "      <th>Method</th>\n",
       "      <th>Accuracy</th>\n",
       "      <th>Precision</th>\n",
       "      <th>Recall</th>\n",
       "      <th>F1-score</th>\n",
       "    </tr>\n",
       "  </thead>\n",
       "  <tbody>\n",
       "    <tr>\n",
       "      <th>0</th>\n",
       "      <td>KNN with Manhattan</td>\n",
       "      <td>0.746032</td>\n",
       "      <td>0.603625</td>\n",
       "      <td>0.532826</td>\n",
       "      <td>0.528069</td>\n",
       "    </tr>\n",
       "    <tr>\n",
       "      <th>1</th>\n",
       "      <td>KNN with Euclidean</td>\n",
       "      <td>0.730159</td>\n",
       "      <td>0.602713</td>\n",
       "      <td>0.512080</td>\n",
       "      <td>0.495292</td>\n",
       "    </tr>\n",
       "    <tr>\n",
       "      <th>2</th>\n",
       "      <td>KNN with Minkowski p=3</td>\n",
       "      <td>0.682540</td>\n",
       "      <td>0.342803</td>\n",
       "      <td>0.442227</td>\n",
       "      <td>0.386218</td>\n",
       "    </tr>\n",
       "  </tbody>\n",
       "</table>\n",
       "</div>"
      ],
      "text/plain": [
       "                   Method  Accuracy  Precision    Recall  F1-score\n",
       "0      KNN with Manhattan  0.746032   0.603625  0.532826  0.528069\n",
       "1      KNN with Euclidean  0.730159   0.602713  0.512080  0.495292\n",
       "2  KNN with Minkowski p=3  0.682540   0.342803  0.442227  0.386218"
      ]
     },
     "execution_count": 494,
     "metadata": {},
     "output_type": "execute_result"
    }
   ],
   "source": [
    "data = {\n",
    "    \"Method\": [\"KNN with Manhattan\", \"KNN with Euclidean\", \"KNN with Minkowski p=3\"],\n",
    "    \"Accuracy\": [accuracy_mh, accuracy_ec, accuracy_m3],\n",
    "    \"Precision\": [precision_mh, precision_ec, precision_m3],\n",
    "    \"Recall\": [recall_mh, recall_ec, recall_m3],\n",
    "    \"F1-score\": [f1_score_mh, f1_score_ec, f1_score_m3]\n",
    "}\n",
    "\n",
    "df = pd.DataFrame(data)\n",
    "\n",
    "# Menampilkan hasil evaluasi dalam bentuk tabel\n",
    "df\n"
   ]
  }
 ],
 "metadata": {
  "kernelspec": {
   "display_name": "Python 3",
   "language": "python",
   "name": "python3"
  },
  "language_info": {
   "codemirror_mode": {
    "name": "ipython",
    "version": 3
   },
   "file_extension": ".py",
   "mimetype": "text/x-python",
   "name": "python",
   "nbconvert_exporter": "python",
   "pygments_lexer": "ipython3",
   "version": "3.11.6"
  }
 },
 "nbformat": 4,
 "nbformat_minor": 2
}
